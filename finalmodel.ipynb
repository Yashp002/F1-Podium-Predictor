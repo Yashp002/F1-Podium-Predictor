{
 "cells": [
  {
   "cell_type": "code",
   "execution_count": 9,
   "id": "ce8c02c9-e629-4a77-b1c2-8d9c3d168bda",
   "metadata": {},
   "outputs": [
    {
     "data": {
      "text/plain": [
       "['f1scaler.pkl']"
      ]
     },
     "execution_count": 9,
     "metadata": {},
     "output_type": "execute_result"
    }
   ],
   "source": [
    "from sklearn.neighbors import KNeighborsClassifier\n",
    "from sklearn.preprocessing import StandardScaler\n",
    "from imblearn.over_sampling import SMOTE\n",
    "import joblib\n",
    "import pandas as pd\n",
    "\n",
    "# 1. Load your data\n",
    "df = pd.read_csv(\"f1races.csv\")\n",
    "X = df.drop([\"Top 3 Finish\", \"date\"], axis=1)\n",
    "y = df[\"Top 3 Finish\"]\n",
    "\n",
    "# 2. Apply the SAME preprocessing as your grid search\n",
    "scaler = StandardScaler()\n",
    "X_scaled = scaler.fit_transform(X)\n",
    "\n",
    "# 3. Apply SMOTE to balance classes\n",
    "smote = SMOTE(random_state=101)\n",
    "X_balanced, y_balanced = smote.fit_resample(X_scaled, y)\n",
    "\n",
    "# 4. Create model with your optimized hyperparameters\n",
    "model = KNeighborsClassifier(\n",
    "    n_neighbors=13, \n",
    "    p=1, \n",
    "    weights='distance', \n",
    "    metric='manhattan', \n",
    "    algorithm='auto'\n",
    ")\n",
    "\n",
    "# 5. Train on balanced, scaled data (same as grid search)\n",
    "model.fit(X_balanced, y_balanced)\n",
    "\n",
    "# 6. Save both model and scaler\n",
    "joblib.dump(model, 'f1predictor.pkl')\n",
    "joblib.dump(scaler, 'f1scaler.pkl')  # CRITICAL - needed for new predictions\n"
   ]
  }
 ],
 "metadata": {
  "kernelspec": {
   "display_name": "Python [conda env:base] *",
   "language": "python",
   "name": "conda-base-py"
  },
  "language_info": {
   "codemirror_mode": {
    "name": "ipython",
    "version": 3
   },
   "file_extension": ".py",
   "mimetype": "text/x-python",
   "name": "python",
   "nbconvert_exporter": "python",
   "pygments_lexer": "ipython3",
   "version": "3.13.5"
  }
 },
 "nbformat": 4,
 "nbformat_minor": 5
}
